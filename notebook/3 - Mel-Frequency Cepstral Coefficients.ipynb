{
 "cells": [
  {
   "cell_type": "markdown",
   "metadata": {},
   "source": [
    "# 3 - Mel-Frequency Cepstral Coefficients\n",
    "## Mel-Frequency Cep-WHAA??\n",
    "Uhh yeah, pretty much what the title says lol. Okay, let's back up about 3 days. I've been doing a bit of light research on how to meaningfully extract features out of a "
   ]
  }
 ],
 "metadata": {
  "anaconda-cloud": {},
  "kernelspec": {
   "display_name": "Python [conda root]",
   "language": "python",
   "name": "conda-root-py"
  },
  "language_info": {
   "codemirror_mode": {
    "name": "ipython",
    "version": 2
   },
   "file_extension": ".py",
   "mimetype": "text/x-python",
   "name": "python",
   "nbconvert_exporter": "python",
   "pygments_lexer": "ipython2",
   "version": "2.7.12"
  }
 },
 "nbformat": 4,
 "nbformat_minor": 1
}
