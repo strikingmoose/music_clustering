{
 "cells": [
  {
   "cell_type": "markdown",
   "metadata": {},
   "source": [
    "# 5 - Gradient Boosting (Part I)\n",
    "## Selecting Model\n",
    "Man, we've made it so far haha. It's felt like quite a journey so far. This is good. The bright light at the end of the tunnel is ahead. Let's hope, when we reach the other side, the bright light comes from a blazing sun in a bright blue sky with clouds that spell \"95% accuracy, good job Chi\".\n",
    "\n",
    "Selecting our model... man... so many that we have at our disposal from when we tried to predict all-NBA teams. Off the top of my head, I think the neural network and gradient boosted trees are probably my best bets because of how non-linear these decision boundaries must be. K-means would probably provide some input but, because of the number of dimensions we have, I'm hesitant that I have enough samples (I dunno, a few million samples ain't bad I guess...). SVMs can also help us map these highly nonlinear decision boundaries, but SVMs are quite slow in their computation, and I'm hesitant that it'll perform better than a neural network. A neural network probably will be slow as well, but I guess I'm just sucked into this \"deep learning\" craze... well PLUS I think it will ACTUALLY be faster than an SVM haha.\n",
    "\n",
    "One thing that I'm picking up on is that I'm really not caring about the interpretability of the model. If I were, I'd be looking at the likes of linear regression, LDA, single decision trees... etc. This is something I'm starting to understand more and more through these exercises... There are analytics / ML projects where you really _**care**_ about the model interpretability, and other projects where you care more about _**accuracy**_ and are willing to sacrifice the world in terms of interpretability. Even a very basic neural network with a few hidden layers gets pretty complicated pretty quickly. A random forest more or less loses all its granular interpretability because you literally cannot track it back down to a single tree. You have to get into every single tree and take averages before you can truly understand the inner workings.\n",
    "\n",
    "I think the nature of some problems are that they are simply so non-linear that you cannot even explain it in a way which humans will comprehend fully. I guess we've reached the crux of human thinking and understanding where we can just sit back in awe and watch the machines take over. Am I glad to be contributing to that? I haven't made up my mind yet haha...\n",
    "\n",
    "<img src=\"http://i1.ytimg.com/vi/iyTvTYhZtak/maxresdefault.jpg\" style=\"width: 500px;\"/>\n",
    "\n",
    "Anyways, yeah, let's just go with the neural network and the gradient boosted tree for now.\n",
    "\n",
    "## Loading Data"
   ]
  },
  {
   "cell_type": "code",
   "execution_count": 1,
   "metadata": {
    "collapsed": false
   },
   "outputs": [],
   "source": [
    "# Enable plots in the notebook\n",
    "%matplotlib inline\n",
    "import matplotlib.pyplot as plt\n",
    "\n",
    "# Seaborn makes our plots prettier\n",
    "import seaborn\n",
    "seaborn.set(style = 'ticks')\n",
    "\n",
    "import numpy as np\n",
    "import pandas as pd\n",
    "import random\n",
    "import itertools\n",
    "\n",
    "import sklearn\n",
    "\n",
    "# Set constants\n",
    "genres_list = [\n",
    "    'Ambient',\n",
    "    'Dance',\n",
    "    'Easy Listening',\n",
    "    'Folk',\n",
    "    'Pop',\n",
    "    'Hip Hop',\n",
    "    'Jazz',\n",
    "    'R&B',\n",
    "    'Rock'\n",
    "]"
   ]
  },
  {
   "cell_type": "code",
   "execution_count": 2,
   "metadata": {
    "collapsed": false
   },
   "outputs": [],
   "source": [
    "# Load the dataset we generated in the previous post\n",
    "my_itunes_data = pd.read_csv(\n",
    "    '../features.csv', \n",
    "    header = None,\n",
    "    names = [\n",
    "        'song_id',\n",
    "        'title',\n",
    "        'artist',\n",
    "        'genre',\n",
    "        'mfcc_1',\n",
    "        'mfcc_2',\n",
    "        'mfcc_3',\n",
    "        'mfcc_4',\n",
    "        'mfcc_5',\n",
    "        'mfcc_6',\n",
    "        'mfcc_7',\n",
    "        'mfcc_8',\n",
    "        'mfcc_9',\n",
    "        'mfcc_10'\n",
    "    ]\n",
    ")"
   ]
  },
  {
   "cell_type": "code",
   "execution_count": 3,
   "metadata": {
    "collapsed": false
   },
   "outputs": [
    {
     "data": {
      "text/plain": [
       "song_id      int64\n",
       "title       object\n",
       "artist      object\n",
       "genre       object\n",
       "mfcc_1     float64\n",
       "mfcc_2     float64\n",
       "mfcc_3     float64\n",
       "mfcc_4     float64\n",
       "mfcc_5     float64\n",
       "mfcc_6     float64\n",
       "mfcc_7     float64\n",
       "mfcc_8     float64\n",
       "mfcc_9     float64\n",
       "mfcc_10    float64\n",
       "dtype: object"
      ]
     },
     "execution_count": 3,
     "metadata": {},
     "output_type": "execute_result"
    }
   ],
   "source": [
    "# Check that the data imported properly\n",
    "my_itunes_data.dtypes"
   ]
  },
  {
   "cell_type": "code",
   "execution_count": 4,
   "metadata": {
    "collapsed": false
   },
   "outputs": [
    {
     "data": {
      "text/plain": [
       "2470678"
      ]
     },
     "execution_count": 4,
     "metadata": {},
     "output_type": "execute_result"
    }
   ],
   "source": [
    "# Check number of rows in the data set\n",
    "my_itunes_data.shape[0]"
   ]
  },
  {
   "cell_type": "code",
   "execution_count": 5,
   "metadata": {
    "collapsed": false
   },
   "outputs": [
    {
     "data": {
      "text/plain": [
       "3825"
      ]
     },
     "execution_count": 5,
     "metadata": {},
     "output_type": "execute_result"
    }
   ],
   "source": [
    "# Check the number of songs\n",
    "my_itunes_data['song_id'].nunique()"
   ]
  },
  {
   "cell_type": "markdown",
   "metadata": {},
   "source": [
    "Okay, so we have around 3825 songs in our data set. Let's use 90% for training and 10% for test. Oh wait, but before I do that, I just realized that I wanted to take out Prince because he was way too difficult to classify and I had way too many Prince songs... A bit of laziness on my part!"
   ]
  },
  {
   "cell_type": "code",
   "execution_count": 6,
   "metadata": {
    "collapsed": false
   },
   "outputs": [
    {
     "data": {
      "text/plain": [
       "3765"
      ]
     },
     "execution_count": 6,
     "metadata": {},
     "output_type": "execute_result"
    }
   ],
   "source": [
    "# Remove any training samples with \"Prince\" as artist\n",
    "my_itunes_data = my_itunes_data[(my_itunes_data['artist'] != 'Prince') & (my_itunes_data['artist'] != 'Prince And The Revolution') & (my_itunes_data['genre'].isin(genres_list))]\n",
    "\n",
    "# Check the number of songs\n",
    "my_itunes_data['song_id'].nunique()"
   ]
  },
  {
   "cell_type": "markdown",
   "metadata": {},
   "source": [
    "I just want to do a quick check of the distribution of songs I have in each genre in my data set."
   ]
  },
  {
   "cell_type": "code",
   "execution_count": 7,
   "metadata": {
    "collapsed": false
   },
   "outputs": [
    {
     "data": {
      "text/plain": [
       "<matplotlib.axes._subplots.AxesSubplot at 0x1228fed90>"
      ]
     },
     "execution_count": 7,
     "metadata": {},
     "output_type": "execute_result"
    },
    {
     "data": {
      "image/png": "[encoded data removed]",
      "text/plain": [
       "<matplotlib.figure.Figure at 0x1035e48d0>"
      ]
     },
     "metadata": {},
     "output_type": "display_data"
    }
   ],
   "source": [
    "my_itunes_data['genre'].value_counts().plot(kind = 'bar')"
   ]
  },
  {
   "cell_type": "markdown",
   "metadata": {},
   "source": [
    "Ok, now let's build our training and test sets."
   ]
  },
  {
   "cell_type": "code",
   "execution_count": 8,
   "metadata": {
    "collapsed": false
   },
   "outputs": [
    {
     "name": "stdout",
     "output_type": "stream",
     "text": [
      "There are 3385 songs in the training set and 380 songs in the test set\n"
     ]
    }
   ],
   "source": [
    "# Get the list of unique song_id's\n",
    "unique_song_ids = my_itunes_data['song_id'].unique()\n",
    "\n",
    "# Get ~10% of the test data\n",
    "test_song_ids = random.sample(unique_song_ids, 380)\n",
    "\n",
    "# All other songs become the training set\n",
    "train_song_ids = [x for x in unique_song_ids if x not in test_song_ids]\n",
    "\n",
    "print 'There are {} songs in the training set and {} songs in the test set'.format(len(train_song_ids), len(test_song_ids))"
   ]
  },
  {
   "cell_type": "code",
   "execution_count": 9,
   "metadata": {
    "collapsed": false
   },
   "outputs": [
    {
     "name": "stdout",
     "output_type": "stream",
     "text": [
      "There are 2186438 training samples\n",
      "There are 245480 test samples\n"
     ]
    }
   ],
   "source": [
    "# Build training set\n",
    "x_train = my_itunes_data[my_itunes_data['song_id'].isin(train_song_ids)].filter(regex = 'mfcc.*').values\n",
    "y_train = my_itunes_data[my_itunes_data['song_id'].isin(train_song_ids)][['genre']].values.T[0]\n",
    "print 'There are {} training samples'.format(len(x_train))\n",
    "\n",
    "# Build test set\n",
    "x_test = my_itunes_data[my_itunes_data['song_id'].isin(test_song_ids)].filter(regex = 'mfcc.*').values\n",
    "y_test = my_itunes_data[my_itunes_data['song_id'].isin(test_song_ids)][['genre']].values.T[0]\n",
    "print 'There are {} test samples'.format(len(x_test))"
   ]
  },
  {
   "cell_type": "markdown",
   "metadata": {},
   "source": [
    "Not quite 10%, but close enough.\n",
    "\n",
    "## Gradient Boosted Trees\n",
    "I'll start with GBTs because I flipped a coin in my head and GBT was heads. In my last project where I tried to predict all-NBA players for the 2016 - 2017 season, I used the xgboost package in R. This time, I'm just going to try it in python because I'm already working in here and I feel like it proably would be easier for me to just add sklearn knowledge because of how well python fares in other scenarios (such as having a library for pretty much anything). I won't go over how GBTs are trained again, feel free to refer to my other post if you'd like, but I'll just get started directly here."
   ]
  },
  {
   "cell_type": "code",
   "execution_count": 10,
   "metadata": {
    "collapsed": false
   },
   "outputs": [],
   "source": [
    "# Import xgboost\n",
    "import xgboost as xgb\n",
    "from sklearn.metrics import accuracy_score, confusion_matrix\n",
    "from sklearn.preprocessing import LabelEncoder"
   ]
  },
  {
   "cell_type": "code",
   "execution_count": 11,
   "metadata": {
    "collapsed": false
   },
   "outputs": [
    {
     "name": "stdout",
     "output_type": "stream",
     "text": [
      "Y (train) set has the following labels [0 1 2 3 4 5 6 7 8] and has 2186438 elements\n",
      "Y (test) set has the following labels [0 1 2 3 4 5 6 7 8] and has 245480 elements\n"
     ]
    }
   ],
   "source": [
    "# Encode our labels to integers (e.g. \"Dance\" becomes a number like 1 or 2)\n",
    "lb = LabelEncoder()\n",
    "y_train_encoded = lb.fit_transform(y_train)\n",
    "y_test_encoded = lb.transform(y_test)\n",
    "print 'Y (train) set has the following labels {} and has {} elements'.format(np.unique(y_train_encoded), len(y_train_encoded))\n",
    "print 'Y (test) set has the following labels {} and has {} elements'.format(np.unique(y_test_encoded), len(y_test_encoded))"
   ]
  },
  {
   "cell_type": "code",
   "execution_count": 12,
   "metadata": {
    "collapsed": false
   },
   "outputs": [],
   "source": [
    "# Fit our train and test data to a xgb sparse matrix\n",
    "xgb_train = xgb.DMatrix(x_train, label = y_train_encoded)\n",
    "xgb_test = xgb.DMatrix(x_test, label = y_test_encoded)\n",
    "xgb_test_no_label = xgb.DMatrix(x_test)"
   ]
  },
  {
   "cell_type": "code",
   "execution_count": 13,
   "metadata": {
    "collapsed": false
   },
   "outputs": [],
   "source": [
    "# Set xgboost parameters\n",
    "param = {\n",
    "    'max_depth': 2,\n",
    "    'nthread': 2,\n",
    "    'objective': 'multi:softmax',\n",
    "    'eval_metric': 'merror',\n",
    "    'num_class': 9\n",
    "}\n",
    "\n",
    "plist = list(param.items())\n",
    "\n",
    "num_rounds = 10\n",
    "\n",
    "eval_list  = [(xgb_train, 'train'), (xgb_test, 'eval')]"
   ]
  },
  {
   "cell_type": "code",
   "execution_count": 14,
   "metadata": {
    "collapsed": false
   },
   "outputs": [
    {
     "name": "stdout",
     "output_type": "stream",
     "text": [
      "[0]\ttrain-merror:0.581557\teval-merror:0.580316\n",
      "[1]\ttrain-merror:0.581849\teval-merror:0.580569\n",
      "[2]\ttrain-merror:0.581646\teval-merror:0.580532\n",
      "[3]\ttrain-merror:0.581584\teval-merror:0.580308\n",
      "[4]\ttrain-merror:0.581851\teval-merror:0.580532\n",
      "[5]\ttrain-merror:0.581777\teval-merror:0.580618\n",
      "[6]\ttrain-merror:0.581711\teval-merror:0.580459\n",
      "[7]\ttrain-merror:0.581727\teval-merror:0.580471\n",
      "[8]\ttrain-merror:0.581612\teval-merror:0.580479\n",
      "[9]\ttrain-merror:0.581587\teval-merror:0.580381\n"
     ]
    }
   ],
   "source": [
    "# Train model\n",
    "bst = xgb.train(param, xgb_train, num_rounds, eval_list)"
   ]
  },
  {
   "cell_type": "markdown",
   "metadata": {
    "collapsed": true
   },
   "source": [
    "xgboost in python is slightly different, but we get a very similar output. We see our train error and our test error. Here, some intricacies of xgboost for multi-class classification requires us to set the following parameters:\n",
    "- objective: multi:softmax\n",
    "- eval_metric: merror\n",
    "- num_class: 9\n",
    "\n",
    "Here, I trained for 10 rounds of gradient boosting and it took about 5 minutes. I don't blame it, I guess... It's going through like 2 some odd million samples! This taking a bit longer than I'd have liked for ad-hoc analysis... 10 iterations for 5 minutes... last time when we predicted all-NBA players, I think we were looking at like less than 10K of samples. I remember we had to go to about 130 xgboost iterations. With such a small NBA data set, I could tweak models in a really agile way and get optimal results within seconds. After 10 xgboost iterations here, we don't see our error go down that much... In fact, it really didn't go down at all. I'd love to try more rounds to see if that works, but I'd have to wait 50 minutes if I went to 100 iterations. Even then, the true number of iterations to optimize this classification problem might lie in the multiple hundreds, and I don't want to take out an entire day _**quite yet**_. Realistically, I'm just trying to get a sense of whether or not MFCCs are even a good feature to use for this problem!\n",
    "\n",
    "Let's take this horrible classifier and look at our test predictions to see if we can even get a sense of what it's doing."
   ]
  },
  {
   "cell_type": "code",
   "execution_count": 15,
   "metadata": {
    "collapsed": false
   },
   "outputs": [],
   "source": [
    "# Predict test\n",
    "y_test_pred = bst.predict(xgb_test_no_label)\n",
    "y_test_pred = [int(x) for x in y_test_pred]"
   ]
  },
  {
   "cell_type": "markdown",
   "metadata": {},
   "source": [
    "This is what the distribution of genres in the test set should look like:"
   ]
  },
  {
   "cell_type": "code",
   "execution_count": 16,
   "metadata": {
    "collapsed": false
   },
   "outputs": [
    {
     "data": {
      "text/plain": [
       "<matplotlib.axes._subplots.AxesSubplot at 0x1145606d0>"
      ]
     },
     "execution_count": 16,
     "metadata": {},
     "output_type": "execute_result"
    },
    {
     "data": {
      "image/png": "[encoded data removed]",
      "text/plain": [
       "<matplotlib.figure.Figure at 0x113acad10>"
      ]
     },
     "metadata": {},
     "output_type": "display_data"
    }
   ],
   "source": [
    "pd.Series(y_test).value_counts().plot(kind = 'bar')"
   ]
  },
  {
   "cell_type": "markdown",
   "metadata": {},
   "source": [
    "How about our predicted genres?"
   ]
  },
  {
   "cell_type": "code",
   "execution_count": 17,
   "metadata": {
    "collapsed": false
   },
   "outputs": [
    {
     "data": {
      "text/plain": [
       "<matplotlib.axes._subplots.AxesSubplot at 0x114552b50>"
      ]
     },
     "execution_count": 17,
     "metadata": {},
     "output_type": "execute_result"
    },
    {
     "data": {
      "image/png": "[encoded data removed]",
      "text/plain": [
       "<matplotlib.figure.Figure at 0x116411e90>"
      ]
     },
     "metadata": {},
     "output_type": "display_data"
    }
   ],
   "source": [
    "pd.Series(lb.inverse_transform(y_test_pred)).value_counts().plot(kind = 'bar')"
   ]
  },
  {
   "cell_type": "markdown",
   "metadata": {},
   "source": [
    "Welp, that is a horrible classifier. I can't even believe how horrible this is. It looks like for the most part the classifier just thinks everything is Dance."
   ]
  },
  {
   "cell_type": "code",
   "execution_count": 18,
   "metadata": {
    "collapsed": false
   },
   "outputs": [
    {
     "name": "stdout",
     "output_type": "stream",
     "text": [
      "Dance             102714\n",
      "R&B                55556\n",
      "Pop                25194\n",
      "Jazz               23902\n",
      "Hip Hop            22610\n",
      "Rock                5814\n",
      "Easy Listening      5168\n",
      "Ambient             3876\n",
      "Folk                 646\n",
      "dtype: int64\n",
      "\n",
      "There are a total of 245480 samples in the data set\n",
      "\n",
      "If the classifier always guesses Dance, it will have guessed 107236 / 245208 = 0.437326677759 accuracy\n"
     ]
    }
   ],
   "source": [
    "print pd.Series(y_test).value_counts()\n",
    "print ''\n",
    "print 'There are a total of {} samples in the data set'.format(pd.Series(y_test).value_counts().sum())\n",
    "print ''\n",
    "print 'If the classifier always guesses Dance, it will have guessed 107236 / 245208 = {} accuracy'.format(float(107236)/float(245208))"
   ]
  },
  {
   "cell_type": "markdown",
   "metadata": {},
   "source": [
    "We see how we're seeing an accuracy of 58% or so. Pretty horrible classifier. Not only does it only guess Dance, when it doesn't guess Dance, it only guessed R&B, Jazz, and Rock. No sign of Hip Hop or Pop, the other genres that are relatively popular in my music library.\n",
    "\n",
    "However, remember what our _**samples**_ represent! They represent _**frames**_ of songs, not the songs themselves! We have to go back and aggregate and do a majority vote of frames within a song to figure out what genre the _**songs**_ actually are"
   ]
  },
  {
   "cell_type": "code",
   "execution_count": 86,
   "metadata": {
    "collapsed": false
   },
   "outputs": [],
   "source": [
    "# Create a new dataframe with just the song ids\n",
    "x_test_song_id_labels = my_itunes_data[my_itunes_data['song_id'].isin(test_song_ids)][['song_id']].reset_index(drop = True)\n",
    "\n",
    "# Append the predicted values to the song ids\n",
    "x_test_song_id_labels['y_test_pred'] = pd.Series(lb.inverse_transform(y_test_pred))\n",
    "\n",
    "# Group by and find the most commonly classified genre of each frame per song\n",
    "song_classification = x_test_song_id_labels.groupby(['song_id'])['y_test_pred'].agg(lambda x: x.value_counts().idxmax()).reset_index()"
   ]
  },
  {
   "cell_type": "code",
   "execution_count": 87,
   "metadata": {
    "collapsed": false
   },
   "outputs": [
    {
     "data": {
      "text/plain": [
       "<matplotlib.axes._subplots.AxesSubplot at 0x11cbd1950>"
      ]
     },
     "execution_count": 87,
     "metadata": {},
     "output_type": "execute_result"
    },
    {
     "data": {
      "image/png": "[encoded data removed]",
      "text/plain": [
       "<matplotlib.figure.Figure at 0x11e98fe10>"
      ]
     },
     "metadata": {},
     "output_type": "display_data"
    }
   ],
   "source": [
    "# Plot histogram of predicted song genres\n",
    "song_classification['y_test_pred'].value_counts().plot(kind = 'bar')"
   ]
  },
  {
   "cell_type": "markdown",
   "metadata": {},
   "source": [
    "Lol, ok the result is _**even worse**_ when try to aggregate the results back up by song. Literally every single song is predicting Dance. Let's see what the true distribiution of the test set looks like by song."
   ]
  },
  {
   "cell_type": "code",
   "execution_count": 92,
   "metadata": {
    "collapsed": false
   },
   "outputs": [
    {
     "data": {
      "text/plain": [
       "<matplotlib.axes._subplots.AxesSubplot at 0x12532cf90>"
      ]
     },
     "execution_count": 92,
     "metadata": {},
     "output_type": "execute_result"
    },
    {
     "data": {
      "image/png": "[encoded data removed]",
      "text/plain": [
       "<matplotlib.figure.Figure at 0x12532c950>"
      ]
     },
     "metadata": {},
     "output_type": "display_data"
    }
   ],
   "source": [
    "# Filter iTunes data for test set\n",
    "y_test_song_id_genre = my_itunes_data[my_itunes_data['song_id'].isin(test_song_ids)][['song_id', 'genre']]\n",
    "\n",
    "# Aggregate by song and plot true test distribution of song genres\n",
    "y_test_song_id_genre.drop_duplicates()['genre'].value_counts().plot(kind = 'bar')"
   ]
  },
  {
   "cell_type": "markdown",
   "metadata": {},
   "source": [
    "I don't need a confusion matrix to tell this model is a steaming pile of hot garbage. This is literally trying to emulate what we would do if we had a one track mind and just guessed Dance all the time. Clearly not the model we're looking for. This is probably enough for this post. I'll continue the exploration in the next post."
   ]
  }
 ],
 "metadata": {
  "anaconda-cloud": {},
  "kernelspec": {
   "display_name": "Python [conda root]",
   "language": "python",
   "name": "conda-root-py"
  },
  "language_info": {
   "codemirror_mode": {
    "name": "ipython",
    "version": 2
   },
   "file_extension": ".py",
   "mimetype": "text/x-python",
   "name": "python",
   "nbconvert_exporter": "python",
   "pygments_lexer": "ipython2",
   "version": "2.7.12"
  }
 },
 "nbformat": 4,
 "nbformat_minor": 1
}
