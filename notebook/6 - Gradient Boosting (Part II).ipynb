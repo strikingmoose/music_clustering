{
 "cells": [
  {
   "cell_type": "markdown",
   "metadata": {},
   "source": [
    "# 6 - Gradient Boosting (Part II)\n",
    "## Troubleshooting Our Model\n",
    "So we saw that our first GBT approach in the last post was, to quote myself, a \"steaming pile of hot garbage\". In reality, that's probably and understatement because it's barely even a model. I could've gotten the results with literally no model and straight guesses. Disappointing to say the least.\n",
    "\n",
    "![](http://i.imgur.com/8zXjYXy.gif)\n",
    "\n",
    "Of course, now, the question is... Why? Why is this model so bad? There are so many things that could have gone wrong:\n",
    "1. Did I misclassify some songs in my library in theory?\n",
    "2. Did I misclassify some songs in my library in practice (i.e. accidentally classified a Rock song as R&B)?\n",
    "3. Is my feature extraction method appropriate (i.e. MFCCs)?\n",
    "4. Is gradient boosting appropriate for this application?\n",
    "5. Did I take enough gradient boosting iterations to really allow the model settle and optimize?\n",
    "\n",
    "So many questions. So little answers... The solutions to the above would be\n",
    "1. Re-think my classifications of genres and re-classify my entire library, this may include adding new genres, taking away existing genres, or switching songs from one genre to another.\n",
    "2. Thoroughly check all 4000 songs again for mistakes.\n",
    "3. Do another week of research regarding feature extraction methods for music.\n",
    "4. Try other models (neural network).\n",
    "5. Leave the model running overnight / get a faster CPU (AWS?).\n",
    "\n",
    "I'm going to try to tweak \\#1 purely on the basis that it's probably the least time consuming solution... a quick win _**IF**_ it works, and not too big of a sunk cost if it doesn't. I'm actually going to approach \\#1 in a way that should mitigate the effects of \\#2, \\#3, and \\#5 as well. I'm going to take two very distinct genres of equal population and try to run the model only on those 2. Let's take Rock and Easy Listening for now because they should be quite different (the Radioheads and Portisheads come to mind that could _**kind of**_ cross over semetimes, but for the most part they're quite different).\n",
    "\n",
    "With only these two genres, we're dealing with less than 10% of our original data set. We're also taking the more ambiguous genres out (e.g. Dance, R&B, Hip Hop and Jazz have more overlap than Rock and Easy Listening). With this, I'll get more confidence in whether or not MFCCs do the job as well."
   ]
  },
  {
   "cell_type": "code",
   "execution_count": 39,
   "metadata": {
    "collapsed": true
   },
   "outputs": [],
   "source": [
    "# Enable plots in the notebook\n",
    "%matplotlib inline\n",
    "import matplotlib.pyplot as plt\n",
    "\n",
    "# Seaborn makes our plots prettier\n",
    "import seaborn\n",
    "seaborn.set(style = 'ticks')\n",
    "\n",
    "import numpy as np\n",
    "import pandas as pd\n",
    "import random\n",
    "\n",
    "import sklearn"
   ]
  },
  {
   "cell_type": "code",
   "execution_count": 40,
   "metadata": {
    "collapsed": true
   },
   "outputs": [],
   "source": [
    "# Load the dataset we generated in the previous post\n",
    "my_itunes_data = pd.read_csv(\n",
    "    '../features.csv', \n",
    "    header = None,\n",
    "    names = [\n",
    "        'song_id',\n",
    "        'title',\n",
    "        'artist',\n",
    "        'genre',\n",
    "        'mfcc_1',\n",
    "        'mfcc_2',\n",
    "        'mfcc_3',\n",
    "        'mfcc_4',\n",
    "        'mfcc_5',\n",
    "        'mfcc_6',\n",
    "        'mfcc_7',\n",
    "        'mfcc_8',\n",
    "        'mfcc_9',\n",
    "        'mfcc_10'\n",
    "    ]\n",
    ")"
   ]
  },
  {
   "cell_type": "code",
   "execution_count": 41,
   "metadata": {
    "collapsed": false
   },
   "outputs": [
    {
     "data": {
      "text/plain": [
       "song_id      int64\n",
       "title       object\n",
       "artist      object\n",
       "genre       object\n",
       "mfcc_1     float64\n",
       "mfcc_2     float64\n",
       "mfcc_3     float64\n",
       "mfcc_4     float64\n",
       "mfcc_5     float64\n",
       "mfcc_6     float64\n",
       "mfcc_7     float64\n",
       "mfcc_8     float64\n",
       "mfcc_9     float64\n",
       "mfcc_10    float64\n",
       "dtype: object"
      ]
     },
     "execution_count": 41,
     "metadata": {},
     "output_type": "execute_result"
    }
   ],
   "source": [
    "# Check that the data imported properly\n",
    "my_itunes_data.dtypes"
   ]
  },
  {
   "cell_type": "code",
   "execution_count": 42,
   "metadata": {
    "collapsed": false
   },
   "outputs": [
    {
     "data": {
      "text/plain": [
       "2470678"
      ]
     },
     "execution_count": 42,
     "metadata": {},
     "output_type": "execute_result"
    }
   ],
   "source": [
    "# Check number of rows in the data set\n",
    "my_itunes_data.shape[0]"
   ]
  },
  {
   "cell_type": "code",
   "execution_count": 43,
   "metadata": {
    "collapsed": false
   },
   "outputs": [
    {
     "data": {
      "text/plain": [
       "3825"
      ]
     },
     "execution_count": 43,
     "metadata": {},
     "output_type": "execute_result"
    }
   ],
   "source": [
    "# Check the number of songs\n",
    "my_itunes_data['song_id'].nunique()"
   ]
  },
  {
   "cell_type": "code",
   "execution_count": 44,
   "metadata": {
    "collapsed": false
   },
   "outputs": [
    {
     "data": {
      "text/plain": [
       "208"
      ]
     },
     "execution_count": 44,
     "metadata": {},
     "output_type": "execute_result"
    }
   ],
   "source": [
    "# Remove any training samples with \"Prince\" as artist\n",
    "my_itunes_data = my_itunes_data[(my_itunes_data['genre'].isin(['Rock', 'Easy Listening']))]\n",
    "\n",
    "# Check the number of songs\n",
    "my_itunes_data['song_id'].nunique()"
   ]
  },
  {
   "cell_type": "markdown",
   "metadata": {},
   "source": [
    "We're dealing with wayyyyy less songs now."
   ]
  },
  {
   "cell_type": "code",
   "execution_count": 45,
   "metadata": {
    "collapsed": false
   },
   "outputs": [
    {
     "data": {
      "text/plain": [
       "<matplotlib.axes._subplots.AxesSubplot at 0x119330610>"
      ]
     },
     "execution_count": 45,
     "metadata": {},
     "output_type": "execute_result"
    },
    {
     "data": {
      "image/png": "[encoded data removed]",
      "text/plain": [
       "<matplotlib.figure.Figure at 0x119330d50>"
      ]
     },
     "metadata": {},
     "output_type": "display_data"
    }
   ],
   "source": [
    "# Aggregate data to song level to see how many songs are of each genre\n",
    "my_itunes_data[['song_id', 'genre']].drop_duplicates()['genre'].value_counts().plot(kind = 'bar')"
   ]
  },
  {
   "cell_type": "markdown",
   "metadata": {},
   "source": [
    "We got about twice the number of Rock songs than Easy Listening, but should be fine."
   ]
  },
  {
   "cell_type": "code",
   "execution_count": 46,
   "metadata": {
    "collapsed": false
   },
   "outputs": [
    {
     "name": "stdout",
     "output_type": "stream",
     "text": [
      "There are 183 songs in the training set and 25 songs in the test set\n"
     ]
    }
   ],
   "source": [
    "# Get the list of unique song_id's\n",
    "unique_song_ids = my_itunes_data['song_id'].unique()\n",
    "\n",
    "# Get ~10% of the test data\n",
    "test_song_ids = random.sample(unique_song_ids, 25)\n",
    "\n",
    "# All other songs become the training set\n",
    "train_song_ids = [x for x in unique_song_ids if x not in test_song_ids]\n",
    "\n",
    "print 'There are {} songs in the training set and {} songs in the test set'.format(len(train_song_ids), len(test_song_ids))"
   ]
  },
  {
   "cell_type": "code",
   "execution_count": 47,
   "metadata": {
    "collapsed": false
   },
   "outputs": [
    {
     "data": {
      "text/plain": [
       "<matplotlib.axes._subplots.AxesSubplot at 0x1192e0110>"
      ]
     },
     "execution_count": 47,
     "metadata": {},
     "output_type": "execute_result"
    },
    {
     "data": {
      "image/png": "[encoded data removed]",
      "text/plain": [
       "<matplotlib.figure.Figure at 0x114f76cd0>"
      ]
     },
     "metadata": {},
     "output_type": "display_data"
    }
   ],
   "source": [
    "# Check the distribution of genres in the test set to ensure the sample is not completely lop-sided\n",
    "my_itunes_data[my_itunes_data['song_id'].isin(test_song_ids)][['song_id', 'genre']].drop_duplicates()['genre'].value_counts().plot(kind = 'bar')"
   ]
  },
  {
   "cell_type": "markdown",
   "metadata": {},
   "source": [
    "Looking good. Let's train."
   ]
  },
  {
   "cell_type": "code",
   "execution_count": 48,
   "metadata": {
    "collapsed": false
   },
   "outputs": [
    {
     "name": "stdout",
     "output_type": "stream",
     "text": [
      "There are 118218 training samples\n",
      "There are 16150 test samples\n"
     ]
    }
   ],
   "source": [
    "# Build training set\n",
    "x_train = my_itunes_data[my_itunes_data['song_id'].isin(train_song_ids)].filter(regex = 'mfcc.*').values\n",
    "y_train = my_itunes_data[my_itunes_data['song_id'].isin(train_song_ids)][['genre']].values.T[0]\n",
    "print 'There are {} training samples'.format(len(x_train))\n",
    "\n",
    "# Build test set\n",
    "x_test = my_itunes_data[my_itunes_data['song_id'].isin(test_song_ids)].filter(regex = 'mfcc.*').values\n",
    "y_test = my_itunes_data[my_itunes_data['song_id'].isin(test_song_ids)][['genre']].values.T[0]\n",
    "print 'There are {} test samples'.format(len(x_test))"
   ]
  },
  {
   "cell_type": "code",
   "execution_count": 49,
   "metadata": {
    "collapsed": true
   },
   "outputs": [],
   "source": [
    "# Import xgboost\n",
    "import xgboost as xgb\n",
    "from sklearn.metrics import accuracy_score, confusion_matrix\n",
    "from sklearn.preprocessing import LabelEncoder"
   ]
  },
  {
   "cell_type": "code",
   "execution_count": 50,
   "metadata": {
    "collapsed": false
   },
   "outputs": [
    {
     "name": "stdout",
     "output_type": "stream",
     "text": [
      "Y (train) set has the following labels [0 1] and has 118218 elements\n",
      "Y (test) set has the following labels [0 1] and has 16150 elements\n"
     ]
    }
   ],
   "source": [
    "# Encode our labels to integers (e.g. \"Dance\" becomes a number like 1 or 2)\n",
    "lb = LabelEncoder()\n",
    "y_train_encoded = lb.fit_transform(y_train)\n",
    "y_test_encoded = lb.transform(y_test)\n",
    "print 'Y (train) set has the following labels {} and has {} elements'.format(np.unique(y_train_encoded), len(y_train_encoded))\n",
    "print 'Y (test) set has the following labels {} and has {} elements'.format(np.unique(y_test_encoded), len(y_test_encoded))"
   ]
  },
  {
   "cell_type": "code",
   "execution_count": 51,
   "metadata": {
    "collapsed": true
   },
   "outputs": [],
   "source": [
    "# Fit our train and test data to a xgb sparse matrix\n",
    "xgb_train = xgb.DMatrix(x_train, label = y_train_encoded)\n",
    "xgb_test = xgb.DMatrix(x_test, label = y_test_encoded)\n",
    "xgb_test_no_label = xgb.DMatrix(x_test)"
   ]
  },
  {
   "cell_type": "code",
   "execution_count": 52,
   "metadata": {
    "collapsed": true
   },
   "outputs": [],
   "source": [
    "# Set xgboost parameters\n",
    "param = {\n",
    "    'max_depth': 1,\n",
    "    'nthread': 2,\n",
    "    'objective': 'binary:logistic',\n",
    "    'eval_metric': 'auc',\n",
    "    'silent': 1\n",
    "}\n",
    "\n",
    "num_rounds = 10000\n",
    "\n",
    "eval_list  = [(xgb_train, 'train'), (xgb_test, 'eval')]"
   ]
  },
  {
   "cell_type": "markdown",
   "metadata": {},
   "source": [
    "This great. We can train our model MUCH faster."
   ]
  },
  {
   "cell_type": "code",
   "execution_count": 54,
   "metadata": {
    "collapsed": false
   },
   "outputs": [],
   "source": [
    "# Train model\n",
    "bst = xgb.train(param, xgb_train, num_rounds, eval_list, early_stopping_rounds = 250, verbose_eval = False)"
   ]
  },
  {
   "cell_type": "code",
   "execution_count": 62,
   "metadata": {
    "collapsed": false
   },
   "outputs": [
    {
     "name": "stdout",
     "output_type": "stream",
     "text": [
      "The best model was on iteration 176 with a score of 0.549914\n"
     ]
    }
   ],
   "source": [
    "# Define a function to output best model info\n",
    "def best_model_info(bst):\n",
    "    print 'The best model was on iteration {} with a score of {}'.format(bst.best_iteration, bst.best_score)\n",
    "    \n",
    "# View best model info from last train\n",
    "best_model_info(bst)"
   ]
  },
  {
   "cell_type": "markdown",
   "metadata": {},
   "source": [
    "Since we only have 2 classes for this example, we can actually use xgboost to evaluate the AUC rather than straight classification error. AUC will give us a better sense of how well the model is able to separate out sensitivity and specificity of the classes. Because each iteration of xgboost is so fast here, I can also just set the maximum number of rounds to something crazy like 10,000 and set the early_stopping_rounds parameter as well. As we saw in the R implementation, early_stopping_rounds simply allows us to run the model into oblivion and xgboost itself will automatically stop when the evaluation metric doesn't get better for, as we've set here, 250 iterations. Here, I turned 'silent': 1 in the model params verbose_eval = False in the train command to surpess the information because the bst parameter should give us all the information we need without needing to see every iteration's information.\n",
    "\n",
    "Since our model is training so fast, we can tweak a few parameters... one that I've been ignoring is the eta parameter which controls the learning rate. The xgboost default is 0.3 which isn't that big, but we can decrease it even more because time we have time to spare with the model training so quickly."
   ]
  },
  {
   "cell_type": "code",
   "execution_count": 65,
   "metadata": {
    "collapsed": false
   },
   "outputs": [],
   "source": [
    "# Tweak eta parameter\n",
    "param_eta_01 = param\n",
    "param_eta_01['eta'] = 0.1\n",
    "\n",
    "# Train model\n",
    "bst_eta_01 = xgb.train(param, xgb_train, num_rounds, eval_list, early_stopping_rounds = 250, verbose_eval = False)"
   ]
  },
  {
   "cell_type": "code",
   "execution_count": 66,
   "metadata": {
    "collapsed": false
   },
   "outputs": [
    {
     "name": "stdout",
     "output_type": "stream",
     "text": [
      "The best model was on iteration 1558 with a score of 0.54947\n"
     ]
    }
   ],
   "source": [
    "# View best model info from last train\n",
    "best_model_info(bst_eta_01)"
   ]
  },
  {
   "cell_type": "markdown",
   "metadata": {},
   "source": [
    "We're not doing much better here. I doubt things would change if we slowed it down even more but..."
   ]
  },
  {
   "cell_type": "code",
   "execution_count": 63,
   "metadata": {
    "collapsed": true
   },
   "outputs": [],
   "source": [
    "# Tweak eta parameter\n",
    "param_eta_005 = param\n",
    "param_eta_005['eta'] = 0.05\n",
    "\n",
    "# Train model\n",
    "bst_eta_005 = xgb.train(param, xgb_train, num_rounds, eval_list, early_stopping_rounds = 250, verbose_eval = False)"
   ]
  },
  {
   "cell_type": "code",
   "execution_count": 64,
   "metadata": {
    "collapsed": false
   },
   "outputs": [
    {
     "name": "stdout",
     "output_type": "stream",
     "text": [
      "The best model was on iteration 768 with a score of 0.548409\n"
     ]
    }
   ],
   "source": [
    "# View best model info from last train\n",
    "best_model_info(bst_eta_005)"
   ]
  },
  {
   "cell_type": "markdown",
   "metadata": {},
   "source": [
    "Hmm, it actually took less iterations to train at a learning rate of 0.05 than at 0.1. I can maybe attribute that to the luck of the draw in that the 0.1 step size may have just made a few splits that prolonged the training process, where 0.05 was able to get to the point a bit faster. Regardless, we se a similar AUC, and it's not good.\n",
    "\n",
    "![](https://media.giphy.com/media/yisc7FaqoEfjG/giphy.gif)"
   ]
  },
  {
   "cell_type": "markdown",
   "metadata": {},
   "source": [
    "I just want to take a bit of a deeper dive to see which songs were classified what just to see if I can find out a bit more information that way."
   ]
  },
  {
   "cell_type": "code",
   "execution_count": 68,
   "metadata": {
    "collapsed": true
   },
   "outputs": [],
   "source": [
    "# Predict test\n",
    "y_test_pred = bst_eta_005.predict(xgb_test_no_label, ntree_limit = bst_eta_005.best_ntree_limit)\n",
    "y_test_pred = [int(x) for x in y_test_pred]"
   ]
  },
  {
   "cell_type": "code",
   "execution_count": 69,
   "metadata": {
    "collapsed": false
   },
   "outputs": [
    {
     "data": {
      "text/plain": [
       "<matplotlib.axes._subplots.AxesSubplot at 0x117482390>"
      ]
     },
     "execution_count": 69,
     "metadata": {},
     "output_type": "execute_result"
    },
    {
     "data": {
      "image/png": "[encoded data removed]",
      "text/plain": [
       "<matplotlib.figure.Figure at 0x1150eb410>"
      ]
     },
     "metadata": {},
     "output_type": "display_data"
    }
   ],
   "source": [
    "# Create a new dataframe with just the song ids\n",
    "x_test_song_id_labels = my_itunes_data[my_itunes_data['song_id'].isin(test_song_ids)][['song_id']].reset_index(drop = True)\n",
    "\n",
    "# Append the predicted values to the song ids\n",
    "x_test_song_id_labels['y_test_pred'] = pd.Series(lb.inverse_transform(y_test_pred))\n",
    "\n",
    "# Group by and find the most commonly classified genre of each frame per song\n",
    "song_classification = x_test_song_id_labels.groupby(['song_id'])['y_test_pred'].agg(lambda x: x.value_counts().idxmax()).reset_index()\n",
    "\n",
    "# Plot histogram of predicted song genres\n",
    "song_classification['y_test_pred'].value_counts().plot(kind = 'bar')"
   ]
  },
  {
   "cell_type": "markdown",
   "metadata": {},
   "source": [
    "Oh wow, that's quite unexpected... it thinks everything is easy listening. Okay then. This doesn't quite solve any of the problems I had haha... probably just creates more to be honest. There is still a chance that my music classification is wrong, and there is still a chance that I'm extracting MFCCs wrong or that MFCCs are a wrong way to approach the problem in general. There is one _**last**_ thing I can try to tweak in the xgboost model, and that's the depth of the trees. I don't expect much of a difference, but let's give it a shot. Since we're playing around with multiple parameters here, I'm actually going to try the GridSearchCV function from sklearn.\n",
    "\n",
    "The GridSearchCV essentially allows us to\n",
    "1. Perform cross validation (which we had not been doing before, we were only using a single train test split)\n",
    "2. Loop through multiple parameters efficiently\n",
    "\n",
    "I have to caveat this right now by saying that _**MY METHOD OF CV RIGHT NOW MAY BE INACCURATE**_. Cross validation helps decrease the out-of-sample error by splitting our data up into multiple folds and training and testing multiple times. For example, for 5-fold cross validation, each iteration would look something like this:\n",
    "\n",
    "![](http://tomaszkacmajor.pl/wp-content/uploads/2016/05/cross-validation.png)\n",
    "\n",
    "Notice that each set is split up into 1 parts, and in each iteration, 4 of them are used as training and 1 of them is used as the test. The reason I wasn't using CV before, and only train test split, was because each of my training samples are _**frames of songs**_, not the _**actual songs themselves**_. Because they are frames, I may be training on parts of one song, and testing on other parts. Although, in theory, each sample is individual from each other, the logic in the context we're working in (music and songs) says we should be training and testing on _**songs**_ themselves.\n",
    "\n",
    "For me to run cross validation, let alone cross validation over a grid of parameters like GridSearchCV does, I'd have to write custom code (like I did with the train test split method) to not just randomly take 20% of my sample, but 20% of my sample _**in terms of songs**_, which ends up being 20% of the overall samples in general because I took the same amount of samples per song. I should never be training on 50% of one song and testing on 50% of another song.\n",
    "\n",
    "But with that entire rant, I'm going to go ahead and actually do exactly that because my objective here is just to scratch the surface on if parameters make a big difference, not do a deep dive. This should give me enough of an idea because I think I should still see a bump in accuracy.\n",
    "\n",
    "To learn how GridSearchCV works with xgboost, I'm referring to [this kaggle page](https://www.kaggle.com/phunter/xgboost-with-gridsearchcv)"
   ]
  },
  {
   "cell_type": "code",
   "execution_count": 70,
   "metadata": {
    "collapsed": true
   },
   "outputs": [],
   "source": [
    "from sklearn.grid_search import GridSearchCV"
   ]
  },
  {
   "cell_type": "code",
   "execution_count": 90,
   "metadata": {
    "collapsed": false
   },
   "outputs": [],
   "source": [
    "# Instantiate model\n",
    "xgb_model_test = xgb.XGBClassifier()\n",
    "\n",
    "# Set parameters (for GridSearchCV, every value must be in a list, even if there is only 1 value we want to test)\n",
    "param_grid_search_test = {\n",
    "#     'max_depth': [1, 5, 10],\n",
    "#     'learning_rate': [0.05, 0.1, 0.5, 1, 2],\n",
    "    'max_depth': [1],\n",
    "    'objective': ['binary:logistic'],\n",
    "    'silent': [1],\n",
    "#     'n_estimators': 1000\n",
    "    'n_estimators': [200]\n",
    "}\n",
    "\n",
    "# Set up grid search\n",
    "clf_test = GridSearchCV(\n",
    "    xgb_model_test, \n",
    "    param_grid_search_test, \n",
    "    n_jobs = -1, \n",
    "    cv = 5, \n",
    "    scoring = 'roc_auc',\n",
    "    verbose = 1, \n",
    "    refit = True\n",
    ")"
   ]
  },
  {
   "cell_type": "code",
   "execution_count": 91,
   "metadata": {
    "collapsed": false
   },
   "outputs": [
    {
     "name": "stdout",
     "output_type": "stream",
     "text": [
      "Fitting 5 folds for each of 1 candidates, totalling 5 fits\n"
     ]
    },
    {
     "name": "stderr",
     "output_type": "stream",
     "text": [
      "[Parallel(n_jobs=-1)]: Done   5 out of   5 | elapsed:   32.9s finished\n"
     ]
    },
    {
     "data": {
      "text/plain": [
       "GridSearchCV(cv=5, error_score='raise',\n",
       "       estimator=XGBClassifier(base_score=0.5, booster='gbtree', colsample_bylevel=1,\n",
       "       colsample_bytree=1, gamma=0, learning_rate=0.1, max_delta_step=0,\n",
       "       max_depth=3, min_child_weight=1, missing=None, n_estimators=100,\n",
       "       n_jobs=1, nthread=None, objective='binary:logistic', random_state=0,\n",
       "       reg_alpha=0, reg_lambda=1, scale_pos_weight=1, seed=None,\n",
       "       silent=True, subsample=1),\n",
       "       fit_params={}, iid=True, n_jobs=-1,\n",
       "       param_grid={'objective': ['binary:logistic'], 'n_estimators': [200], 'max_depth': [1], 'silent': [1]},\n",
       "       pre_dispatch='2*n_jobs', refit=True, scoring='roc_auc', verbose=1)"
      ]
     },
     "execution_count": 91,
     "metadata": {},
     "output_type": "execute_result"
    }
   ],
   "source": [
    "# Suppress warnings because I'm getting a deprecation warning\n",
    "import warnings\n",
    "warnings.filterwarnings(\"ignore\")\n",
    "\n",
    "# Fit model\n",
    "clf_test.fit(x_train, y_train_encoded)"
   ]
  },
  {
   "cell_type": "code",
   "execution_count": 86,
   "metadata": {
    "collapsed": false
   },
   "outputs": [
    {
     "name": "stdout",
     "output_type": "stream",
     "text": [
      "0.540156962394\n",
      "{'n_estimators': 200, 'objective': 'binary:logistic', 'max_depth': 1, 'silent': 1}\n"
     ]
    }
   ],
   "source": [
    "print clf_test.best_score_\n",
    "print clf_test.best_params_"
   ]
  },
  {
   "cell_type": "markdown",
   "metadata": {},
   "source": [
    "I just tried a test run above, and I've gotten the model to train! Hurrah! You'll see that my parameters list contains some commented out values of parameters that I actually want to train, but I just wanted to do a test run first because I could be waiting a while if something went wrong. Training 5 models (1 model with 5 CV) took about 45 seconds here, so not bad!\n",
    "\n",
    "I'm going to extend this training process, first of all, by using 1000 iterations instead of 200. I'm then going to add 12x more models (3 max_depth values and 4 eta values), in certain cases using larger tree depths, and using slower learning rates as well. Let's try it anyways."
   ]
  },
  {
   "cell_type": "code",
   "execution_count": 106,
   "metadata": {
    "collapsed": false
   },
   "outputs": [],
   "source": [
    "# Instantiate model\n",
    "xgb_model = xgb.XGBClassifier()\n",
    "\n",
    "# Set parameters (for GridSearchCV, every value must be in a list, even if there is only 1 value we want to test)\n",
    "param_grid_search = {\n",
    "    'max_depth': [1, 5, 10],\n",
    "    'learning_rate': [0.05, 0.1, 0.5, 1, 2],\n",
    "    'objective': ['binary:logistic'],\n",
    "    'silent': [1],\n",
    "    'n_estimators': [1000]\n",
    "}\n",
    "\n",
    "# Set up grid search\n",
    "clf = GridSearchCV(\n",
    "    xgb_model, \n",
    "    param_grid_search, \n",
    "    n_jobs = -1, \n",
    "    cv = 5, \n",
    "    scoring = 'roc_auc',\n",
    "    verbose = 2, \n",
    "    refit = True\n",
    ")"
   ]
  },
  {
   "cell_type": "code",
   "execution_count": 107,
   "metadata": {
    "collapsed": false,
    "scrolled": true
   },
   "outputs": [
    {
     "name": "stdout",
     "output_type": "stream",
     "text": [
      "Fitting 5 folds for each of 15 candidates, totalling 75 fits\n",
      "[CV] n_estimators=1000, objective=binary:logistic, learning_rate=0.05, max_depth=1, silent=1 \n",
      "[CV] n_estimators=1000, objective=binary:logistic, learning_rate=0.05, max_depth=1, silent=1 \n",
      "[CV]  n_estimators=1000, objective=binary:logistic, learning_rate=0.05, max_depth=1, silent=1 -  48.5s\n",
      "[CV]  n_estimators=1000, objective=binary:logistic, learning_rate=0.05, max_depth=1, silent=1 -  48.9s\n",
      "[CV] n_estimators=1000, objective=binary:logistic, learning_rate=0.05, max_depth=1, silent=1 \n",
      "[CV] n_estimators=1000, objective=binary:logistic, learning_rate=0.05, max_depth=1, silent=1 \n",
      "[CV]  n_estimators=1000, objective=binary:logistic, learning_rate=0.05, max_depth=1, silent=1 -  46.5s\n",
      "[CV]  n_estimators=1000, objective=binary:logistic, learning_rate=0.05, max_depth=1, silent=1 -  46.5s\n",
      "[CV] n_estimators=1000, objective=binary:logistic, learning_rate=0.05, max_depth=1, silent=1 \n",
      "[CV] n_estimators=1000, objective=binary:logistic, learning_rate=0.05, max_depth=5, silent=1 \n",
      "[CV]  n_estimators=1000, objective=binary:logistic, learning_rate=0.05, max_depth=1, silent=1 -  46.0s\n",
      "[CV] n_estimators=1000, objective=binary:logistic, learning_rate=0.05, max_depth=5, silent=1 \n",
      "[CV]  n_estimators=1000, objective=binary:logistic, learning_rate=0.05, max_depth=5, silent=1 - 3.5min\n",
      "[CV] n_estimators=1000, objective=binary:logistic, learning_rate=0.05, max_depth=5, silent=1 \n",
      "[CV]  n_estimators=1000, objective=binary:logistic, learning_rate=0.05, max_depth=5, silent=1 - 3.5min\n",
      "[CV] n_estimators=1000, objective=binary:logistic, learning_rate=0.05, max_depth=5, silent=1 \n",
      "[CV]  n_estimators=1000, objective=binary:logistic, learning_rate=0.05, max_depth=5, silent=1 - 3.5min\n",
      "[CV] n_estimators=1000, objective=binary:logistic, learning_rate=0.05, max_depth=5, silent=1 \n",
      "[CV]  n_estimators=1000, objective=binary:logistic, learning_rate=0.05, max_depth=5, silent=1 - 3.5min\n",
      "[CV] n_estimators=1000, objective=binary:logistic, learning_rate=0.05, max_depth=10, silent=1 \n",
      "[CV]  n_estimators=1000, objective=binary:logistic, learning_rate=0.05, max_depth=5, silent=1 -123.2min\n",
      "[CV] n_estimators=1000, objective=binary:logistic, learning_rate=0.05, max_depth=10, silent=1 \n",
      "[CV]  n_estimators=1000, objective=binary:logistic, learning_rate=0.05, max_depth=10, silent=1 -425.5min\n",
      "[CV] n_estimators=1000, objective=binary:logistic, learning_rate=0.05, max_depth=10, silent=1 \n",
      "[CV]  n_estimators=1000, objective=binary:logistic, learning_rate=0.05, max_depth=10, silent=1 -305.8min\n",
      "[CV] n_estimators=1000, objective=binary:logistic, learning_rate=0.05, max_depth=10, silent=1 \n",
      "[CV]  n_estimators=1000, objective=binary:logistic, learning_rate=0.05, max_depth=10, silent=1 - 8.1min\n",
      "[CV] n_estimators=1000, objective=binary:logistic, learning_rate=0.05, max_depth=10, silent=1 \n",
      "[CV]  n_estimators=1000, objective=binary:logistic, learning_rate=0.05, max_depth=10, silent=1 - 8.2min\n",
      "[CV] n_estimators=1000, objective=binary:logistic, learning_rate=0.1, max_depth=1, silent=1 \n",
      "[CV]  n_estimators=1000, objective=binary:logistic, learning_rate=0.1, max_depth=1, silent=1 -  45.7s\n",
      "[CV] n_estimators=1000, objective=binary:logistic, learning_rate=0.1, max_depth=1, silent=1 \n",
      "[CV]  n_estimators=1000, objective=binary:logistic, learning_rate=0.1, max_depth=1, silent=1 -  45.9s\n",
      "[CV] n_estimators=1000, objective=binary:logistic, learning_rate=0.1, max_depth=1, silent=1 \n",
      "[CV]  n_estimators=1000, objective=binary:logistic, learning_rate=0.1, max_depth=1, silent=1 -  46.0s\n",
      "[CV] n_estimators=1000, objective=binary:logistic, learning_rate=0.1, max_depth=1, silent=1 \n",
      "[CV]  n_estimators=1000, objective=binary:logistic, learning_rate=0.1, max_depth=1, silent=1 -  46.5s\n",
      "[CV] n_estimators=1000, objective=binary:logistic, learning_rate=0.1, max_depth=1, silent=1 \n",
      "[CV]  n_estimators=1000, objective=binary:logistic, learning_rate=0.1, max_depth=1, silent=1 -  45.7s\n",
      "[CV] n_estimators=1000, objective=binary:logistic, learning_rate=0.1, max_depth=5, silent=1 \n",
      "[CV]  n_estimators=1000, objective=binary:logistic, learning_rate=0.05, max_depth=10, silent=1 - 7.4min\n",
      "[CV] n_estimators=1000, objective=binary:logistic, learning_rate=0.1, max_depth=5, silent=1 \n",
      "[CV]  n_estimators=1000, objective=binary:logistic, learning_rate=0.1, max_depth=5, silent=1 - 3.5min\n",
      "[CV] n_estimators=1000, objective=binary:logistic, learning_rate=0.1, max_depth=5, silent=1 \n",
      "[CV]  n_estimators=1000, objective=binary:logistic, learning_rate=0.1, max_depth=5, silent=1 - 3.5min\n",
      "[CV] n_estimators=1000, objective=binary:logistic, learning_rate=0.1, max_depth=5, silent=1 \n",
      "[CV]  n_estimators=1000, objective=binary:logistic, learning_rate=0.1, max_depth=5, silent=1 - 3.5min\n",
      "[CV] n_estimators=1000, objective=binary:logistic, learning_rate=0.1, max_depth=5, silent=1 \n",
      "[CV]  n_estimators=1000, objective=binary:logistic, learning_rate=0.1, max_depth=5, silent=1 - 3.5min\n",
      "[CV] n_estimators=1000, objective=binary:logistic, learning_rate=0.1, max_depth=10, silent=1 \n",
      "[CV]  n_estimators=1000, objective=binary:logistic, learning_rate=0.1, max_depth=5, silent=1 - 3.5min\n",
      "[CV] n_estimators=1000, objective=binary:logistic, learning_rate=0.1, max_depth=10, silent=1 \n",
      "[CV]  n_estimators=1000, objective=binary:logistic, learning_rate=0.1, max_depth=10, silent=1 - 7.3min\n",
      "[CV] n_estimators=1000, objective=binary:logistic, learning_rate=0.1, max_depth=10, silent=1 \n",
      "[CV]  n_estimators=1000, objective=binary:logistic, learning_rate=0.1, max_depth=10, silent=1 - 7.3min\n",
      "[CV] n_estimators=1000, objective=binary:logistic, learning_rate=0.1, max_depth=10, silent=1 \n",
      "[CV]  n_estimators=1000, objective=binary:logistic, learning_rate=0.1, max_depth=10, silent=1 - 7.3min\n",
      "[CV] n_estimators=1000, objective=binary:logistic, learning_rate=0.1, max_depth=10, silent=1 \n",
      "[CV]  n_estimators=1000, objective=binary:logistic, learning_rate=0.1, max_depth=10, silent=1 - 7.3min\n",
      "[CV] n_estimators=1000, objective=binary:logistic, learning_rate=0.5, max_depth=1, silent=1 \n",
      "[CV]  n_estimators=1000, objective=binary:logistic, learning_rate=0.5, max_depth=1, silent=1 -  45.6s\n",
      "[CV] n_estimators=1000, objective=binary:logistic, learning_rate=0.5, max_depth=1, silent=1 \n",
      "[CV]  n_estimators=1000, objective=binary:logistic, learning_rate=0.5, max_depth=1, silent=1 -  45.8s\n",
      "[CV] n_estimators=1000, objective=binary:logistic, learning_rate=0.5, max_depth=1, silent=1 \n",
      "[CV]  n_estimators=1000, objective=binary:logistic, learning_rate=0.5, max_depth=1, silent=1 -  49.4s\n",
      "[CV] n_estimators=1000, objective=binary:logistic, learning_rate=0.5, max_depth=1, silent=1 \n",
      "[CV]  n_estimators=1000, objective=binary:logistic, learning_rate=0.5, max_depth=1, silent=1 -  45.6s\n",
      "[CV] n_estimators=1000, objective=binary:logistic, learning_rate=0.5, max_depth=1, silent=1 \n",
      "[CV]  n_estimators=1000, objective=binary:logistic, learning_rate=0.5, max_depth=1, silent=1 -  45.9s\n",
      "[CV] n_estimators=1000, objective=binary:logistic, learning_rate=0.5, max_depth=5, silent=1 \n",
      "[CV]  n_estimators=1000, objective=binary:logistic, learning_rate=0.1, max_depth=10, silent=1 - 7.4min\n",
      "[CV] n_estimators=1000, objective=binary:logistic, learning_rate=0.5, max_depth=5, silent=1 \n",
      "[CV]  n_estimators=1000, objective=binary:logistic, learning_rate=0.5, max_depth=5, silent=1 - 4.8min\n",
      "[CV] n_estimators=1000, objective=binary:logistic, learning_rate=0.5, max_depth=5, silent=1 \n",
      "[CV]  n_estimators=1000, objective=binary:logistic, learning_rate=0.5, max_depth=5, silent=1 - 5.2min\n",
      "[CV] n_estimators=1000, objective=binary:logistic, learning_rate=0.5, max_depth=5, silent=1 \n"
     ]
    },
    {
     "name": "stderr",
     "output_type": "stream",
     "text": [
      "[Parallel(n_jobs=-1)]: Done  37 tasks      | elapsed: 484.7min\n"
     ]
    },
    {
     "name": "stdout",
     "output_type": "stream",
     "text": [
      "[CV]  n_estimators=1000, objective=binary:logistic, learning_rate=0.5, max_depth=5, silent=1 - 5.5min\n",
      "[CV] n_estimators=1000, objective=binary:logistic, learning_rate=0.5, max_depth=5, silent=1 \n",
      "[CV]  n_estimators=1000, objective=binary:logistic, learning_rate=0.5, max_depth=5, silent=1 - 5.1min\n",
      "[CV] n_estimators=1000, objective=binary:logistic, learning_rate=0.5, max_depth=10, silent=1 \n",
      "[CV]  n_estimators=1000, objective=binary:logistic, learning_rate=0.5, max_depth=5, silent=1 - 3.5min\n",
      "[CV] n_estimators=1000, objective=binary:logistic, learning_rate=0.5, max_depth=10, silent=1 \n",
      "[CV]  n_estimators=1000, objective=binary:logistic, learning_rate=0.5, max_depth=10, silent=1 - 7.3min\n",
      "[CV] n_estimators=1000, objective=binary:logistic, learning_rate=0.5, max_depth=10, silent=1 \n",
      "[CV]  n_estimators=1000, objective=binary:logistic, learning_rate=0.5, max_depth=10, silent=1 - 7.3min\n",
      "[CV] n_estimators=1000, objective=binary:logistic, learning_rate=0.5, max_depth=10, silent=1 \n",
      "[CV]  n_estimators=1000, objective=binary:logistic, learning_rate=0.5, max_depth=10, silent=1 - 7.3min\n",
      "[CV] n_estimators=1000, objective=binary:logistic, learning_rate=0.5, max_depth=10, silent=1 \n",
      "[CV]  n_estimators=1000, objective=binary:logistic, learning_rate=0.5, max_depth=10, silent=1 - 7.3min\n",
      "[CV] n_estimators=1000, objective=binary:logistic, learning_rate=1, max_depth=1, silent=1 \n",
      "[CV]  n_estimators=1000, objective=binary:logistic, learning_rate=1, max_depth=1, silent=1 -  45.6s\n",
      "[CV] n_estimators=1000, objective=binary:logistic, learning_rate=1, max_depth=1, silent=1 \n",
      "[CV]  n_estimators=1000, objective=binary:logistic, learning_rate=1, max_depth=1, silent=1 -  45.5s\n",
      "[CV] n_estimators=1000, objective=binary:logistic, learning_rate=1, max_depth=1, silent=1 \n",
      "[CV]  n_estimators=1000, objective=binary:logistic, learning_rate=1, max_depth=1, silent=1 -  45.6s\n",
      "[CV] n_estimators=1000, objective=binary:logistic, learning_rate=1, max_depth=1, silent=1 \n",
      "[CV]  n_estimators=1000, objective=binary:logistic, learning_rate=1, max_depth=1, silent=1 -  46.1s\n",
      "[CV] n_estimators=1000, objective=binary:logistic, learning_rate=1, max_depth=1, silent=1 \n",
      "[CV]  n_estimators=1000, objective=binary:logistic, learning_rate=1, max_depth=1, silent=1 -  45.5s\n",
      "[CV] n_estimators=1000, objective=binary:logistic, learning_rate=1, max_depth=5, silent=1 \n",
      "[CV]  n_estimators=1000, objective=binary:logistic, learning_rate=0.5, max_depth=10, silent=1 - 7.3min\n",
      "[CV] n_estimators=1000, objective=binary:logistic, learning_rate=1, max_depth=5, silent=1 \n",
      "[CV]  n_estimators=1000, objective=binary:logistic, learning_rate=1, max_depth=5, silent=1 - 3.5min\n",
      "[CV] n_estimators=1000, objective=binary:logistic, learning_rate=1, max_depth=5, silent=1 \n",
      "[CV]  n_estimators=1000, objective=binary:logistic, learning_rate=1, max_depth=5, silent=1 - 3.5min\n",
      "[CV] n_estimators=1000, objective=binary:logistic, learning_rate=1, max_depth=5, silent=1 \n",
      "[CV]  n_estimators=1000, objective=binary:logistic, learning_rate=1, max_depth=5, silent=1 - 3.8min\n",
      "[CV] n_estimators=1000, objective=binary:logistic, learning_rate=1, max_depth=5, silent=1 \n",
      "[CV]  n_estimators=1000, objective=binary:logistic, learning_rate=1, max_depth=5, silent=1 - 3.8min\n",
      "[CV] n_estimators=1000, objective=binary:logistic, learning_rate=1, max_depth=10, silent=1 \n",
      "[CV]  n_estimators=1000, objective=binary:logistic, learning_rate=1, max_depth=5, silent=1 - 3.8min\n",
      "[CV] n_estimators=1000, objective=binary:logistic, learning_rate=1, max_depth=10, silent=1 \n",
      "[CV]  n_estimators=1000, objective=binary:logistic, learning_rate=1, max_depth=10, silent=1 - 7.3min\n",
      "[CV] n_estimators=1000, objective=binary:logistic, learning_rate=1, max_depth=10, silent=1 \n",
      "[CV]  n_estimators=1000, objective=binary:logistic, learning_rate=1, max_depth=10, silent=1 - 7.6min\n",
      "[CV] n_estimators=1000, objective=binary:logistic, learning_rate=1, max_depth=10, silent=1 \n",
      "[CV]  n_estimators=1000, objective=binary:logistic, learning_rate=1, max_depth=10, silent=1 - 8.4min\n",
      "[CV] n_estimators=1000, objective=binary:logistic, learning_rate=1, max_depth=10, silent=1 \n",
      "[CV]  n_estimators=1000, objective=binary:logistic, learning_rate=1, max_depth=10, silent=1 - 8.9min\n",
      "[CV] n_estimators=1000, objective=binary:logistic, learning_rate=2, max_depth=1, silent=1 \n",
      "[CV]  n_estimators=1000, objective=binary:logistic, learning_rate=2, max_depth=1, silent=1 -  29.7s\n",
      "[CV] n_estimators=1000, objective=binary:logistic, learning_rate=2, max_depth=1, silent=1 \n",
      "[CV]  n_estimators=1000, objective=binary:logistic, learning_rate=2, max_depth=1, silent=1 -  28.1s\n",
      "[CV] n_estimators=1000, objective=binary:logistic, learning_rate=2, max_depth=1, silent=1 \n",
      "[CV]  n_estimators=1000, objective=binary:logistic, learning_rate=2, max_depth=1, silent=1 -  28.7s\n",
      "[CV] n_estimators=1000, objective=binary:logistic, learning_rate=2, max_depth=1, silent=1 \n",
      "[CV]  n_estimators=1000, objective=binary:logistic, learning_rate=2, max_depth=1, silent=1 -  25.5s\n",
      "[CV] n_estimators=1000, objective=binary:logistic, learning_rate=2, max_depth=1, silent=1 \n",
      "[CV]  n_estimators=1000, objective=binary:logistic, learning_rate=2, max_depth=1, silent=1 -  27.8s\n",
      "[CV] n_estimators=1000, objective=binary:logistic, learning_rate=2, max_depth=5, silent=1 \n",
      "[CV]  n_estimators=1000, objective=binary:logistic, learning_rate=2, max_depth=5, silent=1 -  35.9s\n",
      "[CV] n_estimators=1000, objective=binary:logistic, learning_rate=2, max_depth=5, silent=1 \n",
      "[CV]  n_estimators=1000, objective=binary:logistic, learning_rate=2, max_depth=5, silent=1 -  31.7s\n",
      "[CV] n_estimators=1000, objective=binary:logistic, learning_rate=2, max_depth=5, silent=1 \n",
      "[CV]  n_estimators=1000, objective=binary:logistic, learning_rate=2, max_depth=5, silent=1 -  35.4s\n",
      "[CV] n_estimators=1000, objective=binary:logistic, learning_rate=2, max_depth=5, silent=1 \n",
      "[CV]  n_estimators=1000, objective=binary:logistic, learning_rate=1, max_depth=10, silent=1 - 8.3min\n",
      "[CV] n_estimators=1000, objective=binary:logistic, learning_rate=2, max_depth=5, silent=1 \n",
      "[CV]  n_estimators=1000, objective=binary:logistic, learning_rate=2, max_depth=5, silent=1 -  34.9s\n",
      "[CV] n_estimators=1000, objective=binary:logistic, learning_rate=2, max_depth=10, silent=1 \n",
      "[CV]  n_estimators=1000, objective=binary:logistic, learning_rate=2, max_depth=5, silent=1 -  38.2s\n",
      "[CV] n_estimators=1000, objective=binary:logistic, learning_rate=2, max_depth=10, silent=1 \n",
      "[CV]  n_estimators=1000, objective=binary:logistic, learning_rate=2, max_depth=10, silent=1 - 5.3min\n",
      "[CV] n_estimators=1000, objective=binary:logistic, learning_rate=2, max_depth=10, silent=1 \n",
      "[CV]  n_estimators=1000, objective=binary:logistic, learning_rate=2, max_depth=10, silent=1 - 5.4min\n",
      "[CV] n_estimators=1000, objective=binary:logistic, learning_rate=2, max_depth=10, silent=1 \n",
      "[CV]  n_estimators=1000, objective=binary:logistic, learning_rate=2, max_depth=10, silent=1 - 4.1min\n",
      "[CV] n_estimators=1000, objective=binary:logistic, learning_rate=2, max_depth=10, silent=1 \n",
      "[CV]  n_estimators=1000, objective=binary:logistic, learning_rate=2, max_depth=10, silent=1 - 4.1min\n",
      "[CV]  n_estimators=1000, objective=binary:logistic, learning_rate=2, max_depth=10, silent=1 - 3.5min\n"
     ]
    },
    {
     "name": "stderr",
     "output_type": "stream",
     "text": [
      "[Parallel(n_jobs=-1)]: Done  75 out of  75 | elapsed: 556.3min finished\n"
     ]
    },
    {
     "data": {
      "text/plain": [
       "GridSearchCV(cv=5, error_score='raise',\n",
       "       estimator=XGBClassifier(base_score=0.5, booster='gbtree', colsample_bylevel=1,\n",
       "       colsample_bytree=1, gamma=0, learning_rate=0.1, max_delta_step=0,\n",
       "       max_depth=3, min_child_weight=1, missing=None, n_estimators=100,\n",
       "       n_jobs=1, nthread=None, objective='binary:logistic', random_state=0,\n",
       "       reg_alpha=0, reg_lambda=1, scale_pos_weight=1, seed=None,\n",
       "       silent=True, subsample=1),\n",
       "       fit_params={}, iid=True, n_jobs=-1,\n",
       "       param_grid={'objective': ['binary:logistic'], 'n_estimators': [1000], 'learning_rate': [0.05, 0.1, 0.5, 1, 2], 'max_depth': [1, 5, 10], 'silent': [1]},\n",
       "       pre_dispatch='2*n_jobs', refit=True, scoring='roc_auc', verbose=2)"
      ]
     },
     "execution_count": 107,
     "metadata": {},
     "output_type": "execute_result"
    }
   ],
   "source": [
    "# Fit model\n",
    "clf.fit(x_train, y_train_encoded)"
   ]
  },
  {
   "cell_type": "code",
   "execution_count": 109,
   "metadata": {
    "collapsed": false
   },
   "outputs": [
    {
     "name": "stdout",
     "output_type": "stream",
     "text": [
      "0.687249669247\n",
      "{'n_estimators': 1000, 'objective': 'binary:logistic', 'learning_rate': 0.05, 'max_depth': 5, 'silent': 1}\n"
     ]
    }
   ],
   "source": [
    "print clf.best_score_\n",
    "print clf.best_params_"
   ]
  },
  {
   "cell_type": "markdown",
   "metadata": {},
   "source": [
    "Wow, that actually made quite a difference. We see with a slower learning rate and more depth in our trees, we've gained ~15% more area under our ROC curve! That's awesome. At the risk of sounding like an addict, I must go deeper here.\n",
    "\n",
    "<img src=\"http://i0.kym-cdn.com/photos/images/facebook/000/531/557/a88.jpg\" width=\"400\" />\n",
    "\n",
    "Let me re-run the model with even more fine-tuned learning rates and max\\_depths. I also bumped the number of rounds up to 10,000 becauwe we are using _**much smaller step sizes**_ (learning rates / etas). I've also just found out that you can implement xgboost early stopping in conjunction with GridSearchCV as well... life just keeps getting better... goodness gracious. One caveat of this is that, when we implmented early stopping before, we had a consistent training set and a consistent test set. This made sense because, while our training error keeps decreasing, our test error is what our early stopping measured on. If the test error doesn't improve in however many specified iterations, we stop the process altogether because it looks like we've found a minimum in test error. When we're doing cross validation, _**our training set is always changing**_. There exists a chance that our randomly defined training set actually overlaps with our test set specified for early stopping, and that the test error will keep decreasing with the CV train error. Our training set created by CV, however, takes up 80% of our data because we're using 5-fold CV, and our early stopping test set takes up 10% of our data because I've defined that number at the top of the script, so already our two data sets _**overlap directly, even by pure chance**_, but I won't pretend like there doesn't exist any possibility of correlation here."
   ]
  },
  {
   "cell_type": "code",
   "execution_count": 131,
   "metadata": {
    "collapsed": true
   },
   "outputs": [],
   "source": [
    "# Instantiate model\n",
    "xgb_model_detailed = xgb.XGBClassifier()\n",
    "\n",
    "# Set parameters (for GridSearchCV, every value must be in a list, even if there is only 1 value we want to test)\n",
    "param_detailed = {\n",
    "    'max_depth': [3, 4, 5, 6, 7],\n",
    "    'learning_rate': [0.01, 0.02, 0.03, 0.04, 0.05],\n",
    "    'objective': ['binary:logistic'],\n",
    "    'silent': [1],\n",
    "    'n_estimators': [10000]\n",
    "}\n",
    "\n",
    "fit_params_detailed = {\n",
    "    'early_stopping_rounds': 300,\n",
    "    'eval_metric': 'auc',\n",
    "    'eval_set': [[x_test, y_test_encoded]],\n",
    "    'verbose': True\n",
    "}\n",
    "\n",
    "# Set up grid search\n",
    "clf_detailed = GridSearchCV(\n",
    "    xgb_model_detailed,\n",
    "    param_detailed,\n",
    "    fit_params = fit_params_detailed,\n",
    "    n_jobs = 1,\n",
    "    cv = 5, \n",
    "    scoring = 'roc_auc',\n",
    "    verbose = 2,\n",
    "    refit = True\n",
    ")"
   ]
  },
  {
   "cell_type": "code",
   "execution_count": null,
   "metadata": {
    "collapsed": false
   },
   "outputs": [
    {
     "name": "stdout",
     "output_type": "stream",
     "text": [
      "Fitting 5 folds for each of 25 candidates, totalling 125 fits\n",
      "[CV] n_estimators=10000, objective=binary:logistic, learning_rate=0.01, max_depth=3, silent=1 \n",
      "[0]\tvalidation_0-auc:0.534366\n",
      "Will train until validation_0-auc hasn't improved in 300 rounds.\n",
      "[1]\tvalidation_0-auc:0.534366\n",
      "[2]\tvalidation_0-auc:0.534366\n",
      "[3]\tvalidation_0-auc:0.534366\n",
      "[4]\tvalidation_0-auc:0.534366\n",
      "[5]\tvalidation_0-auc:0.534367\n",
      "[6]\tvalidation_0-auc:0.534367\n",
      "[7]\tvalidation_0-auc:0.534367\n",
      "[8]\tvalidation_0-auc:0.534367\n",
      "[9]\tvalidation_0-auc:0.534367\n",
      "[10]\tvalidation_0-auc:0.534367\n",
      "[11]\tvalidation_0-auc:0.532794\n",
      "[12]\tvalidation_0-auc:0.529813\n",
      "[13]\tvalidation_0-auc:0.534232\n",
      "[14]\tvalidation_0-auc:0.535678\n",
      "[15]\tvalidation_0-auc:0.535674\n",
      "[16]\tvalidation_0-auc:0.535578\n",
      "[17]\tvalidation_0-auc:0.535913\n",
      "[18]\tvalidation_0-auc:0.533292\n",
      "[19]\tvalidation_0-auc:0.533763\n",
      "[20]\tvalidation_0-auc:0.535231\n",
      "[21]\tvalidation_0-auc:0.535632\n",
      "[22]\tvalidation_0-auc:0.538371\n",
      "[23]\tvalidation_0-auc:0.537885\n",
      "[24]\tvalidation_0-auc:0.538633\n",
      "[25]\tvalidation_0-auc:0.53912\n",
      "[26]\tvalidation_0-auc:0.536671\n",
      "[27]\tvalidation_0-auc:0.543912\n",
      "[28]\tvalidation_0-auc:0.544754\n",
      "[29]\tvalidation_0-auc:0.544584\n",
      "[30]\tvalidation_0-auc:0.546194\n",
      "[31]\tvalidation_0-auc:0.546099\n",
      "[32]\tvalidation_0-auc:0.546483\n",
      "[33]\tvalidation_0-auc:0.546021\n",
      "[34]\tvalidation_0-auc:0.546307\n",
      "[35]\tvalidation_0-auc:0.546322\n",
      "[36]\tvalidation_0-auc:0.547264\n",
      "[37]\tvalidation_0-auc:0.547159\n",
      "[38]\tvalidation_0-auc:0.546909\n",
      "[39]\tvalidation_0-auc:0.547252\n",
      "[40]\tvalidation_0-auc:0.548174\n",
      "[41]\tvalidation_0-auc:0.547757\n",
      "[42]\tvalidation_0-auc:0.547338\n",
      "[43]\tvalidation_0-auc:0.547909\n",
      "[44]\tvalidation_0-auc:0.547949\n",
      "[45]\tvalidation_0-auc:0.547868\n"
     ]
    }
   ],
   "source": [
    "# Fit model\n",
    "clf_detailed.fit(x_train, y_train_encoded)"
   ]
  },
  {
   "cell_type": "code",
   "execution_count": null,
   "metadata": {
    "collapsed": true
   },
   "outputs": [],
   "source": []
  }
 ],
 "metadata": {
  "anaconda-cloud": {},
  "kernelspec": {
   "display_name": "Python [conda root]",
   "language": "python",
   "name": "conda-root-py"
  },
  "language_info": {
   "codemirror_mode": {
    "name": "ipython",
    "version": 2
   },
   "file_extension": ".py",
   "mimetype": "text/x-python",
   "name": "python",
   "nbconvert_exporter": "python",
   "pygments_lexer": "ipython2",
   "version": "2.7.12"
  }
 },
 "nbformat": 4,
 "nbformat_minor": 1
}
